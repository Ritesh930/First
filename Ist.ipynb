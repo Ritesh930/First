{
 "cells": [
  {
   "cell_type": "markdown",
   "id": "7fdd5d5f",
   "metadata": {},
   "source": [
    "#List"
   ]
  },
  {
   "cell_type": "code",
   "execution_count": 34,
   "id": "3bb5387c",
   "metadata": {},
   "outputs": [
    {
     "name": "stdout",
     "output_type": "stream",
     "text": [
      "Hello world\n"
     ]
    }
   ],
   "source": [
    "print(\"Hello world\")"
   ]
  },
  {
   "cell_type": "code",
   "execution_count": 35,
   "id": "1f23c870",
   "metadata": {},
   "outputs": [],
   "source": [
    "##List-- ordered,mutable,allow duplicates values,hetrogenous"
   ]
  },
  {
   "cell_type": "code",
   "execution_count": 36,
   "id": "0a21c3e9",
   "metadata": {},
   "outputs": [
    {
     "name": "stdout",
     "output_type": "stream",
     "text": [
      "[1, 2, 'Ritesh yadav', 2, True, 33.3]\n",
      "<class 'list'>\n"
     ]
    }
   ],
   "source": [
    "lst =[1,2,\"Ritesh yadav\",2,True,33.3]\n",
    "print(lst)\n",
    "print(type(lst))"
   ]
  },
  {
   "cell_type": "code",
   "execution_count": 37,
   "id": "9af0723b",
   "metadata": {},
   "outputs": [
    {
     "name": "stdout",
     "output_type": "stream",
     "text": [
      "['Red', '45', '16', 'green']\n"
     ]
    }
   ],
   "source": [
    "lst=[\"Red\",\"black\",\"green\"]\n",
    "lst[1:2]= \"45\",\"16\"  \n",
    "print(lst)"
   ]
  },
  {
   "cell_type": "code",
   "execution_count": 38,
   "id": "5fe92488",
   "metadata": {},
   "outputs": [
    {
     "name": "stdout",
     "output_type": "stream",
     "text": [
      "[20, 15, ['6000', 6], 78]\n",
      "[10, 30, [20, 15, ['6000', 6], 78], 66]\n"
     ]
    }
   ],
   "source": [
    "lst=[10,30,[20,15,[60,6],78],66]\n",
    "lst[2][2][0]=\"6000\"\n",
    "print(lst[2])\n",
    "print(lst)\n",
    "\n"
   ]
  },
  {
   "cell_type": "markdown",
   "id": "d72db8d7",
   "metadata": {},
   "source": [
    "#list methods"
   ]
  },
  {
   "cell_type": "code",
   "execution_count": null,
   "id": "3ef87046",
   "metadata": {},
   "outputs": [
    {
     "name": "stdout",
     "output_type": "stream",
     "text": [
      "[]\n"
     ]
    }
   ],
   "source": [
    "lst=[10,20,20,40,50,60,70,80]\n",
    "lst.count(20)  #count how many times situated in list\n",
    "lst.index(70)  #to know the index of list element\n",
    "# lst2=lst.copy()  # to make copy of previous list into new one\n",
    "# print(lst2)\n",
    "lst.clear()\n",
    "print(lst)\n"
   ]
  },
  {
   "cell_type": "code",
   "execution_count": 89,
   "id": "e1925dcd",
   "metadata": {},
   "outputs": [
    {
     "name": "stdout",
     "output_type": "stream",
     "text": [
      "[80, 70, 60, 50, 40, 20, 20, 10]\n",
      "[10, 20, 20, 40, 50, 60, 70, 80]\n"
     ]
    }
   ],
   "source": [
    "lst=[10,20,20,40,50,60,70,80]\n",
    "# lst.insert(2,\"white\")  #to insert at a given index\n",
    "# lst.append(100)  #to insert at last\n",
    "# lst.extend([\"102\",\"1001\",\"2002\"])   #to insert multiple values\n",
    "# lst.reverse()  #to reverse the list\n",
    "# lst.remove(\"1001\")  #to remove the particular value from the list\n",
    "# lst.pop()  #without pop value always remove last value\n",
    "# lst.pop(3) #pop through idex number\n",
    "# lst.sort(reverse=True)  #decending order sort\n",
    "print(lst[::-1])  #list reverse using slicing\n",
    "\n",
    "\n",
    "print(lst)"
   ]
  }
 ],
 "metadata": {
  "kernelspec": {
   "display_name": "Python 3",
   "language": "python",
   "name": "python3"
  },
  "language_info": {
   "codemirror_mode": {
    "name": "ipython",
    "version": 3
   },
   "file_extension": ".py",
   "mimetype": "text/x-python",
   "name": "python",
   "nbconvert_exporter": "python",
   "pygments_lexer": "ipython3",
   "version": "3.13.1"
  }
 },
 "nbformat": 4,
 "nbformat_minor": 5
}

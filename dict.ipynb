{
 "cells": [
  {
   "cell_type": "markdown",
   "id": "7686b4e5",
   "metadata": {},
   "source": [
    "dictionary-- unordered,mutable,indexed. duplicates not allowed"
   ]
  },
  {
   "cell_type": "markdown",
   "id": "998882a2",
   "metadata": {},
   "source": [
    "#Dictionary"
   ]
  },
  {
   "cell_type": "code",
   "execution_count": null,
   "id": "07a8df79",
   "metadata": {},
   "outputs": [
    {
     "name": "stdout",
     "output_type": "stream",
     "text": [
      "{'name': 'Divuu', 'age': 20}\n",
      "<class 'dict'>\n"
     ]
    }
   ],
   "source": [
    "dt={\n",
    "    \"name\":\"Divuu\",      #simple dictionary format\n",
    "    \"age\" : 20,\n",
    "\n",
    "}\n",
    "print(dt)\n",
    "print(type(dt))"
   ]
  },
  {
   "cell_type": "code",
   "execution_count": null,
   "id": "1308060f",
   "metadata": {},
   "outputs": [
    {
     "name": "stdout",
     "output_type": "stream",
     "text": [
      "{'name': 'Divuu', 'age': {'age1': 10, 'age2': 30}}\n",
      "<class 'dict'>\n"
     ]
    }
   ],
   "source": [
    "dt={\n",
    "    \"name\":\"Divuu\",                 #dictionary inside dictionary \n",
    "    \"age\" : 20,\n",
    "    \"age\":{\"age1\":10,\"age2\":30}\n",
    "\n",
    "}\n",
    "print(dt)\n",
    "print(type(dt))"
   ]
  },
  {
   "cell_type": "code",
   "execution_count": null,
   "id": "47fe8bfd",
   "metadata": {},
   "outputs": [
    {
     "name": "stdout",
     "output_type": "stream",
     "text": [
      "{'name': 'Divuu', 'age': {'age1': 10, 'age2': 30}}\n"
     ]
    }
   ],
   "source": [
    "dt={\n",
    "    \"name\":\"Divuu\",                 # \n",
    "    \"age\" : 20,\n",
    "    \"age\":{\"age1\":10,\"age2\":30}\n",
    "\n",
    "}\n",
    "print(dt)"
   ]
  },
  {
   "cell_type": "code",
   "execution_count": null,
   "id": "be0e274d",
   "metadata": {},
   "outputs": [
    {
     "data": {
      "text/plain": [
       "'blaa!blaablaa!'"
      ]
     },
     "execution_count": 14,
     "metadata": {},
     "output_type": "execute_result"
    }
   ],
   "source": [
    "dt={\n",
    "    \"name\":\"Divuu\",                #to get the values\n",
    "    \"age\" : 20,\n",
    "    \"hobby\":\"blaa!blaablaa!\"\n",
    "\n",
    "}\n",
    "dt.get(\"name\")\n",
    "dt.get(\"hobby\")"
   ]
  },
  {
   "cell_type": "code",
   "execution_count": null,
   "id": "714f922d",
   "metadata": {},
   "outputs": [
    {
     "data": {
      "text/plain": [
       "dict_items([('name', 'Divuu'), ('age', 20), ('hobby', 'blaa!blaablaa!')])"
      ]
     },
     "execution_count": 15,
     "metadata": {},
     "output_type": "execute_result"
    }
   ],
   "source": [
    "dt={\n",
    "    \"name\":\"Divuu\",                #return items\n",
    "    \"age\" : 20,\n",
    "    \"hobby\":\"blaa!blaablaa!\"\n",
    "\n",
    "}\n",
    "dt.items()"
   ]
  },
  {
   "cell_type": "code",
   "execution_count": null,
   "id": "24e6660a",
   "metadata": {},
   "outputs": [
    {
     "data": {
      "text/plain": [
       "dict_keys(['name', 'age', 'hobby'])"
      ]
     },
     "execution_count": 16,
     "metadata": {},
     "output_type": "execute_result"
    }
   ],
   "source": [
    "dt={\n",
    "    \"name\":\"Divuu\",                 #only return keys\n",
    "    \"age\" : 20,\n",
    "    \"hobby\":\"blaa!blaablaa!\"\n",
    "\n",
    "}\n",
    "dt.keys()"
   ]
  },
  {
   "cell_type": "code",
   "execution_count": 19,
   "id": "0af9067f",
   "metadata": {},
   "outputs": [
    {
     "name": "stdout",
     "output_type": "stream",
     "text": [
      "{'name': 'Divuu', 'hobby': 'blaa!blaablaa!'}\n"
     ]
    }
   ],
   "source": [
    "dt={\n",
    "    \"name\":\"Divuu\",                \n",
    "    \"age\" : 20,                    #pop is used to delete by using keys\n",
    "    \"hobby\":\"blaa!blaablaa!\"\n",
    "\n",
    "}\n",
    "dt.pop(\"age\")\n",
    "print(dt)"
   ]
  },
  {
   "cell_type": "code",
   "execution_count": null,
   "id": "7647cc15",
   "metadata": {},
   "outputs": [
    {
     "name": "stdout",
     "output_type": "stream",
     "text": [
      "{'name': 'Divuu', 'age': '44', 'hobby': 'blaa!blaablaa!'}\n"
     ]
    }
   ],
   "source": [
    "dt={\n",
    "    \"name\":\"Divuu\",                #to update the values using update\n",
    "    \"age\" : 20,\n",
    "    \"hobby\":\"blaa!blaablaa!\"\n",
    "\n",
    "}\n",
    "dt.update({\"age\":\"44\"})\n",
    "print(dt)"
   ]
  },
  {
   "cell_type": "code",
   "execution_count": null,
   "id": "161e51b8",
   "metadata": {},
   "outputs": [
    {
     "name": "stdout",
     "output_type": "stream",
     "text": [
      "{'a': 1, 'b': 2}\n"
     ]
    }
   ],
   "source": [
    "dt={\"a\":1}\n",
    "value=dt.setdefault(\"b\",2)           #usage of setdefault\n",
    "print(dt)"
   ]
  },
  {
   "cell_type": "code",
   "execution_count": 29,
   "id": "993a584c",
   "metadata": {},
   "outputs": [
    {
     "name": "stdout",
     "output_type": "stream",
     "text": [
      "{'a': 20, 'b': 20, 'c': 20}\n"
     ]
    }
   ],
   "source": [
    "#fromkeys\n",
    "dt={}.fromkeys(\"abc\",20)   #fromkeys used to make dict with same values\n",
    "print(dt)"
   ]
  }
 ],
 "metadata": {
  "kernelspec": {
   "display_name": "Python 3",
   "language": "python",
   "name": "python3"
  },
  "language_info": {
   "codemirror_mode": {
    "name": "ipython",
    "version": 3
   },
   "file_extension": ".py",
   "mimetype": "text/x-python",
   "name": "python",
   "nbconvert_exporter": "python",
   "pygments_lexer": "ipython3",
   "version": "3.13.1"
  }
 },
 "nbformat": 4,
 "nbformat_minor": 5
}

{
 "cells": [
  {
   "cell_type": "markdown",
   "id": "dda8d01b",
   "metadata": {},
   "source": [
    "#Exception handelling"
   ]
  },
  {
   "cell_type": "code",
   "execution_count": null,
   "id": "d10e4b52",
   "metadata": {},
   "outputs": [],
   "source": [
    "#Error Handling -- four types of block try,except,else,finally\n",
    "\n",
    "\n",
    "#try---used to test a block of code for error\n",
    "#except---used to handle the error\n",
    "#else---used to define a block of code to be executed if there is no error\n",
    "#finally---used to define a block of code to executed regardless of the result of the try and except block"
   ]
  },
  {
   "cell_type": "code",
   "execution_count": null,
   "id": "0391b4d9",
   "metadata": {},
   "outputs": [
    {
     "name": "stdout",
     "output_type": "stream",
     "text": [
      "Zero devision error\n",
      "Finally block\n"
     ]
    }
   ],
   "source": [
    "#zero devision error\n",
    "try:\n",
    "    print(10/0)\n",
    "except Z:\n",
    "    print(\"Zero devision error\")\n",
    "else:\n",
    "    print(\"Else block\")\n",
    "finally:\n",
    "    print(\"Finally block\")    "
   ]
  }
 ],
 "metadata": {
  "kernelspec": {
   "display_name": "Python 3",
   "language": "python",
   "name": "python3"
  },
  "language_info": {
   "codemirror_mode": {
    "name": "ipython",
    "version": 3
   },
   "file_extension": ".py",
   "mimetype": "text/x-python",
   "name": "python",
   "nbconvert_exporter": "python",
   "pygments_lexer": "ipython3",
   "version": "3.13.1"
  }
 },
 "nbformat": 4,
 "nbformat_minor": 5
}

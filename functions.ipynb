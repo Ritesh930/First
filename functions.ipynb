{
 "cells": [
  {
   "cell_type": "markdown",
   "id": "75fe5ae2",
   "metadata": {},
   "source": [
    "Functions"
   ]
  },
  {
   "cell_type": "code",
   "execution_count": null,
   "id": "2e89efd8",
   "metadata": {},
   "outputs": [],
   "source": [
    "#funtion is a block of code that is used to do repeated task by using a sigle reusable piece of code\n",
    "#execute only when called\n",
    "\n",
    "#types of fxn--built in, userdefined\n"
   ]
  },
  {
   "cell_type": "code",
   "execution_count": null,
   "id": "d1454191",
   "metadata": {},
   "outputs": [
    {
     "name": "stdout",
     "output_type": "stream",
     "text": [
      "Hello world using function\n"
     ]
    }
   ],
   "source": [
    "def hello():\n",
    "    print(\"Hello world using function\") \n",
    "hello()  #-- here is the function call"
   ]
  },
  {
   "cell_type": "code",
   "execution_count": null,
   "id": "7fffed68",
   "metadata": {},
   "outputs": [
    {
     "name": "stdout",
     "output_type": "stream",
     "text": [
      "30\n"
     ]
    }
   ],
   "source": [
    "def addd():\n",
    "    a=10\n",
    "    b=20\n",
    "    c=a+b\n",
    "    print(c)\n",
    "addd()         #here is the function call"
   ]
  },
  {
   "cell_type": "code",
   "execution_count": null,
   "id": "67dbad04",
   "metadata": {},
   "outputs": [
    {
     "name": "stdout",
     "output_type": "stream",
     "text": [
      "30\n"
     ]
    }
   ],
   "source": [
    "#function behave as per user---parameter and argument\n",
    "def addd():\n",
    "    a=int(input(\"Enter the value of a:\"))\n",
    "    b=int(input(\"Enter the value of b:\"))\n",
    "    c=a+b\n",
    "    print(c)\n",
    "addd()    "
   ]
  },
  {
   "cell_type": "code",
   "execution_count": null,
   "id": "0e8ddcf1",
   "metadata": {},
   "outputs": [
    {
     "name": "stdout",
     "output_type": "stream",
     "text": [
      "40\n"
     ]
    }
   ],
   "source": [
    "def addd(a,b):\n",
    "    print(a+b)\n",
    "addd(10,30)      #function using parameter and argument"
   ]
  },
  {
   "cell_type": "code",
   "execution_count": null,
   "id": "680cd224",
   "metadata": {},
   "outputs": [
    {
     "name": "stdout",
     "output_type": "stream",
     "text": [
      "The youngest child is sonu\n"
     ]
    }
   ],
   "source": [
    "#arbitary arguement---args--denoted as *\n",
    "def child(*kids):                               # arbitary used to passed\n",
    "    print(\"The youngest child is \"+kids[2])   #the younget child is indexed to 2nd index.\n",
    "\n",
    "child(\"mohan\",\"harsh\",\"sonu\")    "
   ]
  },
  {
   "cell_type": "code",
   "execution_count": null,
   "id": "2c3d5666",
   "metadata": {},
   "outputs": [
    {
     "name": "stdout",
     "output_type": "stream",
     "text": [
      "The youngest child is rohan\n"
     ]
    }
   ],
   "source": [
    "def child(child1,child2,child3):                               #keyword arguments\n",
    "    print(\"The youngest child is \"+child3)\n",
    "\n",
    "child(child3=\"rohan\",child2=\"monu\",child1=\"sh\")"
   ]
  },
  {
   "cell_type": "code",
   "execution_count": null,
   "id": "68736ebc",
   "metadata": {},
   "outputs": [
    {
     "name": "stdout",
     "output_type": "stream",
     "text": [
      "The youngest child is rohan\n"
     ]
    }
   ],
   "source": [
    "#arbitary keyword argument---denoted as **kwargs\n",
    "def child(**kids):                               \n",
    "    print(\"The youngest child is \"+kids[\"child3\"])    #combination of args and keyword\n",
    "\n",
    "child(child3=\"rohan\",child2=\"monu\",child1=\"sh\")"
   ]
  },
  {
   "cell_type": "code",
   "execution_count": 13,
   "id": "5579cd68",
   "metadata": {},
   "outputs": [
    {
     "name": "stdout",
     "output_type": "stream",
     "text": [
      "my hobby is running\n"
     ]
    }
   ],
   "source": [
    "#default parameter value\n",
    "def hobby(name):\n",
    "    print(\"my hobby is \"+name)\n",
    "hobby(\"running\")"
   ]
  },
  {
   "cell_type": "code",
   "execution_count": null,
   "id": "32e25df4",
   "metadata": {},
   "outputs": [
    {
     "name": "stdout",
     "output_type": "stream",
     "text": [
      "my hobby is running\n",
      "my hobby is playing\n"
     ]
    }
   ],
   "source": [
    "#default parameter value\n",
    "def hobby(name=\"playing\"):    #default values initialised here\n",
    "    print(\"my hobby is \"+name)\n",
    "hobby(\"running\")\n",
    "hobby()"
   ]
  },
  {
   "cell_type": "code",
   "execution_count": 18,
   "id": "8e4e7b38",
   "metadata": {},
   "outputs": [],
   "source": [
    "def lst(name):\n",
    "    for i in name:\n",
    "        print(i)\n",
    "lst=[10,20,50,30,60]      "
   ]
  },
  {
   "cell_type": "code",
   "execution_count": null,
   "id": "c0c54769",
   "metadata": {},
   "outputs": [
    {
     "name": "stdout",
     "output_type": "stream",
     "text": [
      "15.0\n"
     ]
    }
   ],
   "source": [
    "def avg(a,b):                       #function of average9\n",
    "    return (a+b)/2\n",
    "print(avg(10,20))"
   ]
  },
  {
   "cell_type": "code",
   "execution_count": null,
   "id": "fff9482a",
   "metadata": {},
   "outputs": [],
   "source": [
    "##lambda fxn---small anonymous function\n",
    "##lembda arguments--expression"
   ]
  },
  {
   "cell_type": "code",
   "execution_count": null,
   "id": "466163b4",
   "metadata": {},
   "outputs": [
    {
     "data": {
      "text/plain": [
       "15"
      ]
     },
     "execution_count": 2,
     "metadata": {},
     "output_type": "execute_result"
    }
   ],
   "source": [
    "x=lambda a: a+10\n",
    "x(5)     #parameter is given here"
   ]
  },
  {
   "cell_type": "code",
   "execution_count": null,
   "id": "b68b09f9",
   "metadata": {},
   "outputs": [
    {
     "data": {
      "text/plain": [
       "15"
      ]
     },
     "execution_count": 3,
     "metadata": {},
     "output_type": "execute_result"
    }
   ],
   "source": [
    "x=lambda a,b:a+b\n",
    "x(5,10)    #two parameters are to be given here"
   ]
  },
  {
   "cell_type": "code",
   "execution_count": 4,
   "id": "c5667ee9",
   "metadata": {},
   "outputs": [
    {
     "data": {
      "text/plain": [
       "800"
      ]
     },
     "execution_count": 4,
     "metadata": {},
     "output_type": "execute_result"
    }
   ],
   "source": [
    "x=lambda a,b:a*b\n",
    "x(10,80)"
   ]
  },
  {
   "cell_type": "code",
   "execution_count": null,
   "id": "6d026c98",
   "metadata": {},
   "outputs": [
    {
     "name": "stdout",
     "output_type": "stream",
     "text": [
      "[1, 4, 9, 16, 25]\n"
     ]
    }
   ],
   "source": [
    "# map \n",
    "def sq(num):\n",
    "    return num*num\n",
    "lst=[1,2,3,4,5]\n",
    "result=(map(sq,lst))  #map function is used to apply the function to each element of the list\n",
    "print(list(result))  #convert the map object to a list to see the results,typecasting to list is done here\n"
   ]
  },
  {
   "cell_type": "code",
   "execution_count": 8,
   "id": "59a49642",
   "metadata": {},
   "outputs": [
    {
     "name": "stdout",
     "output_type": "stream",
     "text": [
      "[1, 4, 9, 16, 25]\n"
     ]
    }
   ],
   "source": [
    "# map using lambda function\n",
    "lst = [1, 2, 3, 4, 5]\n",
    "result = map(lambda num: num * num, lst)  # lambda function used instead of sq\n",
    "print(list(result))  # Output: [1, 4, 9, 16, 25]"
   ]
  },
  {
   "cell_type": "code",
   "execution_count": null,
   "id": "f3d0bc74",
   "metadata": {},
   "outputs": [
    {
     "name": "stdout",
     "output_type": "stream",
     "text": [
      "[2, 4, 6]\n"
     ]
    }
   ],
   "source": [
    "## filter function\n",
    "lst = [1, 2, 3, 4, 5, 6]\n",
    "result = filter(lambda x: x % 2 == 0, lst)  # keeps only even numbers\n",
    "print(list(result))  # Output: [2, 4, 6]"
   ]
  },
  {
   "cell_type": "code",
   "execution_count": null,
   "id": "0b58f1ea",
   "metadata": {},
   "outputs": [
    {
     "name": "stdout",
     "output_type": "stream",
     "text": [
      "21\n"
     ]
    }
   ],
   "source": [
    "## reduce function\n",
    "from functools import reduce    #from left to right\n",
    "lst = [1, 2, 3, 4, 5, 6]\n",
    "result = reduce(lambda num1,num2: num1+num2, lst) \n",
    "print(result)"
   ]
  },
  {
   "cell_type": "code",
   "execution_count": null,
   "id": "241deca2",
   "metadata": {},
   "outputs": [
    {
     "name": "stdout",
     "output_type": "stream",
     "text": [
      "[(0, 'mohn'), (1, 'sonu'), (2, 'abc')]\n"
     ]
    }
   ],
   "source": [
    "## enumerate function\n",
    "lst=[\"mohn\",\"sonu\",\"abc\"]   #it gives index number with the element\n",
    "result=enumerate(lst)\n",
    "print(list(result))"
   ]
  },
  {
   "cell_type": "code",
   "execution_count": null,
   "id": "94fdcdcc",
   "metadata": {},
   "outputs": [
    {
     "name": "stdout",
     "output_type": "stream",
     "text": [
      "[(10, 'mohn'), (11, 'sonu'), (12, 'abc')]\n"
     ]
    }
   ],
   "source": [
    "## enumerate function\n",
    "lst=[\"mohn\",\"sonu\",\"abc\"]   #it gives index number with the element\n",
    "result=enumerate(lst,start=10)    # we can add start values from where idex we want to start\n",
    "print(list(result))"
   ]
  },
  {
   "cell_type": "code",
   "execution_count": 20,
   "id": "60dc7a56",
   "metadata": {},
   "outputs": [
    {
     "name": "stdout",
     "output_type": "stream",
     "text": [
      "[('mohn', 1), ('sonu', 2), ('abc', 3)]\n"
     ]
    }
   ],
   "source": [
    "## zip function---it is use to combine two or more iterables\n",
    "lst=[\"mohn\",\"sonu\",\"abc\"]\n",
    "lst2=[1,2,3]\n",
    "result=zip(lst,lst2)\n",
    "print(list(result))\n"
   ]
  },
  {
   "cell_type": "code",
   "execution_count": null,
   "id": "a929bbf2",
   "metadata": {},
   "outputs": [
    {
     "name": "stdout",
     "output_type": "stream",
     "text": [
      "[('mohn', 1), ('sonu', 2)]\n"
     ]
    }
   ],
   "source": [
    "lst=[\"mohn\",\"sonu\",\"abc\"]\n",
    "lst2=[1,2]          #if we give one less elemnt then  it only zips to the pairs\n",
    "result=zip(lst,lst2)\n",
    "print(list(result))    #[('mohn', 1), ('sonu', 2)]"
   ]
  },
  {
   "cell_type": "code",
   "execution_count": 28,
   "id": "bbda5b24",
   "metadata": {},
   "outputs": [
    {
     "name": "stdout",
     "output_type": "stream",
     "text": [
      "['mohn', 'sonu', 'abc']\n",
      "[1, 2, 3]\n"
     ]
    }
   ],
   "source": [
    "## unzip \n",
    "zipped=[('mohn', 1), ('sonu', 2), ('abc', 3)]\n",
    "result, number = zip(*zipped)   #result and number two different var is used because one list is of names and one is of numbers\n",
    "print(list(result))\n",
    "print(list(number))\n"
   ]
  }
 ],
 "metadata": {
  "kernelspec": {
   "display_name": "Python 3",
   "language": "python",
   "name": "python3"
  },
  "language_info": {
   "codemirror_mode": {
    "name": "ipython",
    "version": 3
   },
   "file_extension": ".py",
   "mimetype": "text/x-python",
   "name": "python",
   "nbconvert_exporter": "python",
   "pygments_lexer": "ipython3",
   "version": "3.13.1"
  }
 },
 "nbformat": 4,
 "nbformat_minor": 5
}

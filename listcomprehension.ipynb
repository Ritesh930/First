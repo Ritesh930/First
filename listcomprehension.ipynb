{
 "cells": [
  {
   "cell_type": "markdown",
   "id": "bf543db4",
   "metadata": {},
   "source": [
    "#List comprehension---method to write list in single line code"
   ]
  },
  {
   "cell_type": "code",
   "execution_count": null,
   "id": "95885c32",
   "metadata": {},
   "outputs": [],
   "source": [
    "##method to create new list with less syntax"
   ]
  },
  {
   "cell_type": "code",
   "execution_count": null,
   "id": "c9b111dd",
   "metadata": {},
   "outputs": [],
   "source": [
    "#   [expression|for loop condition]\n",
    "#      LHS     |         RHS"
   ]
  },
  {
   "cell_type": "code",
   "execution_count": 1,
   "id": "935483e1",
   "metadata": {},
   "outputs": [
    {
     "name": "stdout",
     "output_type": "stream",
     "text": [
      "['RED', 'GREEN', 'BLUE', 'BLACK']\n"
     ]
    }
   ],
   "source": [
    "lst=[\"red\",\"green\",\"blue\",\"black\"]\n",
    "newlist=[i.upper()for i in lst]\n",
    "print(newlist)"
   ]
  },
  {
   "cell_type": "code",
   "execution_count": 3,
   "id": "594e182d",
   "metadata": {},
   "outputs": [
    {
     "name": "stdout",
     "output_type": "stream",
     "text": [
      "[1, 4, 9, 16, 25, 36]\n"
     ]
    }
   ],
   "source": [
    "lst=[1,2,3,4,5,6]\n",
    "newlist=[i*i for i in lst]\n",
    "print(newlist)"
   ]
  },
  {
   "cell_type": "code",
   "execution_count": 6,
   "id": "99af2488",
   "metadata": {},
   "outputs": [
    {
     "name": "stdout",
     "output_type": "stream",
     "text": [
      "[2, 4, 6]\n"
     ]
    }
   ],
   "source": [
    "lst=[1,2,3,4,5,6]\n",
    "newlist=[i for i in lst if i%2==0]\n",
    "print(newlist)"
   ]
  },
  {
   "cell_type": "code",
   "execution_count": 11,
   "id": "c432ba47",
   "metadata": {},
   "outputs": [
    {
     "name": "stdout",
     "output_type": "stream",
     "text": [
      "['r', 'g', 'b', 'b']\n"
     ]
    }
   ],
   "source": [
    "lst=[\"red\",\"green\",\"blue\",\"black\"]\n",
    "newlist=[letter[0] for letter in lst]\n",
    "print(newlist)"
   ]
  },
  {
   "cell_type": "code",
   "execution_count": 15,
   "id": "472bcf25",
   "metadata": {},
   "outputs": [
    {
     "name": "stdout",
     "output_type": "stream",
     "text": [
      "[1, 2, 3, 4, 5, 6, 7, 8, 9]\n"
     ]
    }
   ],
   "source": [
    "lst = [[1,2,3],[4,5,6],[7,8,9]]\n",
    "newlist = [item for sublist in lst for item in sublist]\n",
    "print(newlist)"
   ]
  }
 ],
 "metadata": {
  "kernelspec": {
   "display_name": "Python 3",
   "language": "python",
   "name": "python3"
  },
  "language_info": {
   "codemirror_mode": {
    "name": "ipython",
    "version": 3
   },
   "file_extension": ".py",
   "mimetype": "text/x-python",
   "name": "python",
   "nbconvert_exporter": "python",
   "pygments_lexer": "ipython3",
   "version": "3.13.1"
  }
 },
 "nbformat": 4,
 "nbformat_minor": 5
}

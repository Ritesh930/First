{
 "cells": [
  {
   "cell_type": "markdown",
   "id": "f23b00c5",
   "metadata": {},
   "source": [
    "Loops"
   ]
  },
  {
   "cell_type": "code",
   "execution_count": null,
   "id": "53861ddc",
   "metadata": {},
   "outputs": [],
   "source": [
    "# for and while"
   ]
  },
  {
   "cell_type": "code",
   "execution_count": 6,
   "id": "f67310c7",
   "metadata": {},
   "outputs": [
    {
     "name": "stdout",
     "output_type": "stream",
     "text": [
      "D\n",
      "i\n",
      "v\n",
      "u\n",
      "u\n"
     ]
    }
   ],
   "source": [
    "for i in \"Divuu\":   #for loop in string\n",
    "    print(i)\n",
    "     \n"
   ]
  },
  {
   "cell_type": "code",
   "execution_count": null,
   "id": "d215629c",
   "metadata": {},
   "outputs": [
    {
     "name": "stdout",
     "output_type": "stream",
     "text": [
      "Divuu\n",
      "Ritesh\n"
     ]
    }
   ],
   "source": [
    "lst=[\"Divuu\",\"Ritesh\"]\n",
    "for i in lst:    #printing list using for loop\n",
    "    print(i)"
   ]
  },
  {
   "cell_type": "code",
   "execution_count": 13,
   "id": "94801269",
   "metadata": {},
   "outputs": [
    {
     "name": "stdout",
     "output_type": "stream",
     "text": [
      "D   i   v   u   u   "
     ]
    }
   ],
   "source": [
    "for i in \"Divuu\":   #for loop in string\n",
    "    print(i,end=\"   \")  #making string print horizontal\n",
    "     "
   ]
  },
  {
   "cell_type": "code",
   "execution_count": 18,
   "id": "70b73603",
   "metadata": {},
   "outputs": [
    {
     "name": "stdout",
     "output_type": "stream",
     "text": [
      "a 10\n",
      "b 20\n",
      "c 30\n"
     ]
    }
   ],
   "source": [
    "a={\n",
    "    \"a\":\"10\",   #printing dictionary using for loop along with keys and values\n",
    "    \"b\":\"20\",\n",
    "    \"c\":\"30\",\n",
    "}\n",
    "for i in a:\n",
    "    print(i,a[i])"
   ]
  },
  {
   "cell_type": "code",
   "execution_count": null,
   "id": "cacf0ef5",
   "metadata": {},
   "outputs": [
    {
     "name": "stdout",
     "output_type": "stream",
     "text": [
      "('a', '10')\n",
      "('b', '20')\n",
      "('c', '30')\n"
     ]
    }
   ],
   "source": [
    "a={\n",
    "    \"a\":\"10\",   #printing dictionary using for loop along with keys and values\n",
    "    \"b\":\"20\",   #another method using a.item()\n",
    "    \"c\":\"30\",\n",
    "}\n",
    "for i in a.items():\n",
    "    print(i)"
   ]
  },
  {
   "cell_type": "code",
   "execution_count": null,
   "id": "ab8a965a",
   "metadata": {},
   "outputs": [
    {
     "name": "stdout",
     "output_type": "stream",
     "text": [
      "2\n",
      "4\n",
      "6\n",
      "8\n",
      "10\n"
     ]
    }
   ],
   "source": [
    "for i in range(2,12,2):  #range fxn using start ,stop ,step \n",
    "    print(i)"
   ]
  },
  {
   "cell_type": "code",
   "execution_count": 30,
   "id": "244ddd7e",
   "metadata": {},
   "outputs": [
    {
     "name": "stdout",
     "output_type": "stream",
     "text": [
      "1 red\n",
      "_____\n",
      "1 green\n",
      "_____\n",
      "1 blue\n",
      "_____\n",
      "2 red\n",
      "_____\n",
      "2 green\n",
      "_____\n",
      "2 blue\n",
      "_____\n",
      "3 red\n",
      "_____\n",
      "3 green\n",
      "_____\n",
      "3 blue\n",
      "_____\n"
     ]
    }
   ],
   "source": [
    "lst1=[1,2,3]\n",
    "lst2=[\"red\",\"green\",\"blue\"]\n",
    "for i in lst1:\n",
    "    for j in lst2:\n",
    "        print(i,j)\n",
    "        print(\"_____\")"
   ]
  },
  {
   "cell_type": "code",
   "execution_count": null,
   "id": "c203d81a",
   "metadata": {},
   "outputs": [],
   "source": [
    "#break  and  continue"
   ]
  },
  {
   "cell_type": "code",
   "execution_count": 33,
   "id": "892c60fe",
   "metadata": {},
   "outputs": [
    {
     "name": "stdout",
     "output_type": "stream",
     "text": [
      "1\n",
      "2\n",
      "3\n",
      "4\n"
     ]
    }
   ],
   "source": [
    "for i in range(1,10):\n",
    "    if i==5:\n",
    "        break\n",
    "    print(i)"
   ]
  },
  {
   "cell_type": "code",
   "execution_count": 34,
   "id": "b50cb80c",
   "metadata": {},
   "outputs": [
    {
     "name": "stdout",
     "output_type": "stream",
     "text": [
      "1\n",
      "2\n",
      "3\n",
      "4\n",
      "6\n",
      "7\n",
      "8\n",
      "9\n"
     ]
    }
   ],
   "source": [
    "for i in range(1,10):\n",
    "    if i==5:                 #continue skip the value and print rest\n",
    "        continue\n",
    "    print(i)"
   ]
  },
  {
   "cell_type": "code",
   "execution_count": null,
   "id": "13b211dd",
   "metadata": {},
   "outputs": [],
   "source": [
    "#pass"
   ]
  },
  {
   "cell_type": "code",
   "execution_count": 36,
   "id": "e7d19418",
   "metadata": {},
   "outputs": [],
   "source": [
    "for i in range(1,10):   #run incomplete code without error\n",
    "    pass"
   ]
  },
  {
   "cell_type": "code",
   "execution_count": 54,
   "id": "1fd22547",
   "metadata": {},
   "outputs": [
    {
     "name": "stdout",
     "output_type": "stream",
     "text": [
      "[1]\n",
      "[1, 4]\n",
      "[1, 4, 9]\n",
      "[1, 4, 9, 16]\n",
      "[1, 4, 9, 16, 25]\n"
     ]
    }
   ],
   "source": [
    "lst=[1,2,3,4,5]\n",
    "lst2=[]\n",
    "for i in lst:\n",
    "    lst2.append(i**2)\n",
    "    print(lst2)"
   ]
  },
  {
   "cell_type": "code",
   "execution_count": null,
   "id": "989b6bbd",
   "metadata": {},
   "outputs": [],
   "source": [
    "#while loop"
   ]
  },
  {
   "cell_type": "code",
   "execution_count": null,
   "id": "e37f2b1e",
   "metadata": {},
   "outputs": [
    {
     "name": "stdout",
     "output_type": "stream",
     "text": [
      "1\n",
      "2\n",
      "3\n",
      "4\n",
      "5\n",
      "6\n",
      "7\n",
      "8\n",
      "9\n",
      "10\n"
     ]
    }
   ],
   "source": [
    "i=1           #printing 1 to 10\n",
    "while i<=10:\n",
    "    print(i)\n",
    "    i+=1\n",
    "   "
   ]
  },
  {
   "cell_type": "code",
   "execution_count": null,
   "id": "1dceeb6e",
   "metadata": {},
   "outputs": [
    {
     "name": "stdout",
     "output_type": "stream",
     "text": [
      "10\n",
      "9\n",
      "8\n",
      "7\n",
      "6\n",
      "5\n",
      "4\n",
      "3\n",
      "2\n",
      "1\n"
     ]
    }
   ],
   "source": [
    "i=10\n",
    "while i>=1:     #reverse \n",
    "    print(i)\n",
    "    i-=1"
   ]
  },
  {
   "cell_type": "code",
   "execution_count": 68,
   "id": "9d9be5ad",
   "metadata": {},
   "outputs": [
    {
     "name": "stdout",
     "output_type": "stream",
     "text": [
      "1\n",
      "2\n",
      "3\n",
      "4\n"
     ]
    }
   ],
   "source": [
    "#break and continue in while loop\n",
    "i=1           #printing 1 to 10\n",
    "while i<=10:\n",
    "    print(i)\n",
    "    i+=1\n",
    "    if i==5:\n",
    "        break\n",
    "   "
   ]
  },
  {
   "cell_type": "code",
   "execution_count": 69,
   "id": "7d3effd1",
   "metadata": {},
   "outputs": [
    {
     "name": "stdout",
     "output_type": "stream",
     "text": [
      "1\n",
      "2\n",
      "3\n",
      "4\n",
      "5\n",
      "6\n",
      "7\n",
      "8\n",
      "9\n",
      "10\n"
     ]
    }
   ],
   "source": [
    "i=1           #printing 1 to 10\n",
    "while i<=10:\n",
    "    print(i)\n",
    "    i+=1\n",
    "    if i==5:\n",
    "        continue"
   ]
  },
  {
   "cell_type": "code",
   "execution_count": 73,
   "id": "738f24b7",
   "metadata": {},
   "outputs": [
    {
     "name": "stdout",
     "output_type": "stream",
     "text": [
      "1\n",
      "2\n",
      "3\n",
      "4\n",
      "5\n",
      "6\n",
      "7\n",
      "8\n",
      "9\n",
      "10\n"
     ]
    }
   ],
   "source": [
    "i=1\n",
    "sum=0\n",
    "while i<=10:\n",
    "    sum+=i\n",
    "    print(i)\n",
    "    i+=1\n",
    "    "
   ]
  }
 ],
 "metadata": {
  "kernelspec": {
   "display_name": "Python 3",
   "language": "python",
   "name": "python3"
  },
  "language_info": {
   "codemirror_mode": {
    "name": "ipython",
    "version": 3
   },
   "file_extension": ".py",
   "mimetype": "text/x-python",
   "name": "python",
   "nbconvert_exporter": "python",
   "pygments_lexer": "ipython3",
   "version": "3.13.1"
  }
 },
 "nbformat": 4,
 "nbformat_minor": 5
}

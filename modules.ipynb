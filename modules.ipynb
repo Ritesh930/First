{
 "cells": [
  {
   "cell_type": "markdown",
   "id": "40b0a690",
   "metadata": {},
   "source": [
    "# Modules"
   ]
  },
  {
   "cell_type": "code",
   "execution_count": null,
   "id": "9ffe97e6",
   "metadata": {},
   "outputs": [],
   "source": [
    "##  modules--importing other python files into current file.\n",
    "#   module is a single python file(.py)\n",
    "##  there are three types of modules---\n",
    "#  built in,  ----os,datetime,re(regular expression),math\n",
    "# third party, ---pandas,numpy  \n",
    "# user defined ---made by use itself"
   ]
  },
  {
   "cell_type": "code",
   "execution_count": 3,
   "id": "9818510e",
   "metadata": {},
   "outputs": [
    {
     "name": "stdout",
     "output_type": "stream",
     "text": [
      "7\n"
     ]
    }
   ],
   "source": [
    "from basic import addfunction   #function imported from file basic\n",
    "print(addfunction(2,5))    #addition operation performet here for the function imported from file basic"
   ]
  }
 ],
 "metadata": {
  "kernelspec": {
   "display_name": "Python 3",
   "language": "python",
   "name": "python3"
  },
  "language_info": {
   "codemirror_mode": {
    "name": "ipython",
    "version": 3
   },
   "file_extension": ".py",
   "mimetype": "text/x-python",
   "name": "python",
   "nbconvert_exporter": "python",
   "pygments_lexer": "ipython3",
   "version": "3.13.1"
  }
 },
 "nbformat": 4,
 "nbformat_minor": 5
}

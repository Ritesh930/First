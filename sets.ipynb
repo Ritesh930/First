{
 "cells": [
  {
   "cell_type": "markdown",
   "id": "3797ba70",
   "metadata": {},
   "source": [
    "#Sets\n"
   ]
  },
  {
   "cell_type": "code",
   "execution_count": 7,
   "id": "a8b3bf9b",
   "metadata": {},
   "outputs": [],
   "source": [
    "#sets--{}\n",
    "# unordered,unindexed,no duplicates,\n",
    "# sets are unchangable but we can add or remove items"
   ]
  },
  {
   "cell_type": "code",
   "execution_count": 8,
   "id": "7fc419ba",
   "metadata": {},
   "outputs": [
    {
     "name": "stdout",
     "output_type": "stream",
     "text": [
      "<class 'set'>\n",
      "{True, 2, 3, 'hello'}\n"
     ]
    }
   ],
   "source": [
    "st={3,2,\"hello\",True,\"hello\"}\n",
    "print(type(st))\n",
    "print(st)"
   ]
  },
  {
   "cell_type": "code",
   "execution_count": 9,
   "id": "277644ab",
   "metadata": {},
   "outputs": [],
   "source": [
    "#Set methods"
   ]
  },
  {
   "cell_type": "code",
   "execution_count": null,
   "id": "2d577388",
   "metadata": {},
   "outputs": [
    {
     "name": "stdout",
     "output_type": "stream",
     "text": [
      "{True, 2, 3, 'python', 'hello'}\n"
     ]
    }
   ],
   "source": [
    "st={3,2,\"hello\",True,\"hello\"}    #to add\n",
    "st.add(\"python\")\n",
    "print(st)"
   ]
  },
  {
   "cell_type": "code",
   "execution_count": 14,
   "id": "96bc895c",
   "metadata": {},
   "outputs": [
    {
     "name": "stdout",
     "output_type": "stream",
     "text": [
      "{True, 2, 3}\n"
     ]
    }
   ],
   "source": [
    "st={3,2,\"hello\",True,\"hello\"}    #to remove\n",
    "st.remove(\"hello\")\n",
    "print(st)"
   ]
  },
  {
   "cell_type": "code",
   "execution_count": null,
   "id": "51e3bfe0",
   "metadata": {},
   "outputs": [
    {
     "name": "stdout",
     "output_type": "stream",
     "text": [
      "{True, 2, 3, 5, 6, 8, 'hello'}\n"
     ]
    }
   ],
   "source": [
    "st={3,2,\"hello\",True,\"hello\"}  \n",
    "st.update([2,5,6,8])              #to update into the set\n",
    "print(st)"
   ]
  },
  {
   "cell_type": "code",
   "execution_count": 18,
   "id": "9c2e94a1",
   "metadata": {},
   "outputs": [
    {
     "name": "stdout",
     "output_type": "stream",
     "text": [
      "{2, 3, 'hello'}\n"
     ]
    }
   ],
   "source": [
    "st={3,2,\"hello\",True,\"hello\"}  \n",
    "st.pop()                      #random remove\n",
    "print(st)"
   ]
  },
  {
   "cell_type": "code",
   "execution_count": null,
   "id": "bd13d993",
   "metadata": {},
   "outputs": [
    {
     "name": "stdout",
     "output_type": "stream",
     "text": [
      "{True, 2, 3}\n"
     ]
    }
   ],
   "source": [
    "st={3,2,\"hello\",True,\"hello\"}  \n",
    "st.discard(\"hello\")\n",
    "st.discard(\"java\")    #no error is given if element ouside the set are given using discard\n",
    "print(st)"
   ]
  },
  {
   "cell_type": "code",
   "execution_count": null,
   "id": "2ba068bc",
   "metadata": {},
   "outputs": [
    {
     "name": "stdout",
     "output_type": "stream",
     "text": [
      "{1, 2, 3, 4, 5, 6}\n"
     ]
    }
   ],
   "source": [
    "a={1,2,3}          #union\n",
    "b={2,4,5,6}\n",
    "print(a.union(b))"
   ]
  },
  {
   "cell_type": "code",
   "execution_count": null,
   "id": "fca3ab0e",
   "metadata": {},
   "outputs": [
    {
     "name": "stdout",
     "output_type": "stream",
     "text": [
      "{2}\n"
     ]
    }
   ],
   "source": [
    "a={1,2,3}            #intersection\n",
    "b={2,4,5,6}\n",
    "print(a.intersection(b))"
   ]
  },
  {
   "cell_type": "code",
   "execution_count": 26,
   "id": "7477ca49",
   "metadata": {},
   "outputs": [
    {
     "name": "stdout",
     "output_type": "stream",
     "text": [
      "{1, 3}\n",
      "{4, 5, 6}\n"
     ]
    }
   ],
   "source": [
    "a={1,2,3}\n",
    "b={2,4,5,6}\n",
    "print(a.difference(b))\n",
    "print(b.difference(a))"
   ]
  },
  {
   "cell_type": "code",
   "execution_count": 25,
   "id": "431d103d",
   "metadata": {},
   "outputs": [
    {
     "name": "stdout",
     "output_type": "stream",
     "text": [
      "{1, 3, 4, 5, 6}\n"
     ]
    }
   ],
   "source": [
    "a={1,2,3}\n",
    "b={2,4,5,6}\n",
    "print(a.symmetric_difference(b))"
   ]
  },
  {
   "cell_type": "code",
   "execution_count": 27,
   "id": "7fbb48bc",
   "metadata": {},
   "outputs": [
    {
     "name": "stdout",
     "output_type": "stream",
     "text": [
      "False\n"
     ]
    }
   ],
   "source": [
    "a={1,2,3}\n",
    "b={2,4,5,6}\n",
    "print(a.issubset(b))\n"
   ]
  },
  {
   "cell_type": "code",
   "execution_count": 28,
   "id": "ccf86e92",
   "metadata": {},
   "outputs": [
    {
     "name": "stdout",
     "output_type": "stream",
     "text": [
      "False\n"
     ]
    }
   ],
   "source": [
    "a={1,2,3}\n",
    "b={2,4,5,6}\n",
    "print(a.issuperset(b))\n"
   ]
  },
  {
   "cell_type": "code",
   "execution_count": 29,
   "id": "310d197d",
   "metadata": {},
   "outputs": [
    {
     "name": "stdout",
     "output_type": "stream",
     "text": [
      "False\n"
     ]
    }
   ],
   "source": [
    "a={1,2,3}\n",
    "b={2,4,5,6}\n",
    "print(a.isdisjoint(b))\n"
   ]
  },
  {
   "cell_type": "code",
   "execution_count": 33,
   "id": "293d9991",
   "metadata": {},
   "outputs": [
    {
     "name": "stdout",
     "output_type": "stream",
     "text": [
      "None\n"
     ]
    }
   ],
   "source": [
    "a={1,2,3}\n",
    "b={2,4,5,6}\n",
    "print(a.difference_update(b))\n"
   ]
  },
  {
   "cell_type": "code",
   "execution_count": 32,
   "id": "215f093a",
   "metadata": {},
   "outputs": [
    {
     "name": "stdout",
     "output_type": "stream",
     "text": [
      "None\n"
     ]
    }
   ],
   "source": [
    "a={1,2,3}\n",
    "b={2,4,5,6}\n",
    "print(a.symmetric_difference_update(b))\n"
   ]
  },
  {
   "cell_type": "code",
   "execution_count": 34,
   "id": "8fa5f47a",
   "metadata": {},
   "outputs": [
    {
     "name": "stdout",
     "output_type": "stream",
     "text": [
      "None\n"
     ]
    }
   ],
   "source": [
    "a={1,2,3}\n",
    "b={2,4,5,6}\n",
    "print(a.difference_update(b))"
   ]
  }
 ],
 "metadata": {
  "kernelspec": {
   "display_name": "Python 3",
   "language": "python",
   "name": "python3"
  },
  "language_info": {
   "codemirror_mode": {
    "name": "ipython",
    "version": 3
   },
   "file_extension": ".py",
   "mimetype": "text/x-python",
   "name": "python",
   "nbconvert_exporter": "python",
   "pygments_lexer": "ipython3",
   "version": "3.13.1"
  }
 },
 "nbformat": 4,
 "nbformat_minor": 5
}

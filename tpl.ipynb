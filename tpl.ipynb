{
 "cells": [
  {
   "cell_type": "markdown",
   "id": "d995d80a",
   "metadata": {},
   "source": [
    "#Touples"
   ]
  },
  {
   "cell_type": "code",
   "execution_count": 8,
   "id": "0068dd87",
   "metadata": {},
   "outputs": [],
   "source": [
    "# tpls-- ordered,immutable,hetrogenous,\n",
    "#tpl denoted by=()"
   ]
  },
  {
   "cell_type": "code",
   "execution_count": 9,
   "id": "0f99c6f7",
   "metadata": {},
   "outputs": [
    {
     "name": "stdout",
     "output_type": "stream",
     "text": [
      "<class 'tuple'>\n",
      "(10, 20, 30, 40, 50, 50, 60, 80, 70)\n"
     ]
    }
   ],
   "source": [
    "tup=(10,20,30,40,50,50,60,80,70)\n",
    "print(type(tup))\n",
    "print(tup)"
   ]
  },
  {
   "cell_type": "markdown",
   "id": "0bb87f3a",
   "metadata": {},
   "source": [
    "#Tuple methods"
   ]
  },
  {
   "cell_type": "code",
   "execution_count": 10,
   "id": "bed009fb",
   "metadata": {},
   "outputs": [
    {
     "data": {
      "text/plain": [
       "2"
      ]
     },
     "execution_count": 10,
     "metadata": {},
     "output_type": "execute_result"
    }
   ],
   "source": [
    "tup=(10,20,30,40,50,50,60,80,70)\n",
    "tup.count(50)"
   ]
  },
  {
   "cell_type": "code",
   "execution_count": 13,
   "id": "faa73144",
   "metadata": {},
   "outputs": [
    {
     "data": {
      "text/plain": [
       "4"
      ]
     },
     "execution_count": 13,
     "metadata": {},
     "output_type": "execute_result"
    }
   ],
   "source": [
    "tup=(10,20,30,40,50,50,60,80,70)\n",
    "tup.index(50)\n"
   ]
  },
  {
   "cell_type": "code",
   "execution_count": null,
   "id": "a6cacf3e",
   "metadata": {},
   "outputs": [
    {
     "name": "stdout",
     "output_type": "stream",
     "text": [
      "[10, 20, 30, 40, 50, 50, 60, 80, 70]\n"
     ]
    }
   ],
   "source": [
    "tup=(10,20,30,40,50,50,60,80,70)\n",
    "tup.index(50)\n",
    "lst=list(tup)            #typecasting\n",
    "print(lst)"
   ]
  }
 ],
 "metadata": {
  "kernelspec": {
   "display_name": "Python 3",
   "language": "python",
   "name": "python3"
  },
  "language_info": {
   "codemirror_mode": {
    "name": "ipython",
    "version": 3
   },
   "file_extension": ".py",
   "mimetype": "text/x-python",
   "name": "python",
   "nbconvert_exporter": "python",
   "pygments_lexer": "ipython3",
   "version": "3.13.1"
  }
 },
 "nbformat": 4,
 "nbformat_minor": 5
}
